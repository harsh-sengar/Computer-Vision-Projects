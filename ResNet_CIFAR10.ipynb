{
  "nbformat": 4,
  "nbformat_minor": 0,
  "metadata": {
    "colab": {
      "name": "ResNet_CIFAR10.ipynb",
      "provenance": [],
      "collapsed_sections": [],
      "authorship_tag": "ABX9TyNvMoUb6Qgnio1Ogn2Xc8F5",
      "include_colab_link": true
    },
    "kernelspec": {
      "name": "python3",
      "display_name": "Python 3"
    },
    "widgets": {
      "application/vnd.jupyter.widget-state+json": {
        "a2517c48ff6c488d9b4314fe20cd450c": {
          "model_module": "@jupyter-widgets/controls",
          "model_name": "HBoxModel",
          "state": {
            "_view_name": "HBoxView",
            "_dom_classes": [],
            "_model_name": "HBoxModel",
            "_view_module": "@jupyter-widgets/controls",
            "_model_module_version": "1.5.0",
            "_view_count": null,
            "_view_module_version": "1.5.0",
            "box_style": "",
            "layout": "IPY_MODEL_4f960961c4a046579793a69a3f981980",
            "_model_module": "@jupyter-widgets/controls",
            "children": [
              "IPY_MODEL_492beb8424524bfa9a917f81d54b040f",
              "IPY_MODEL_59f128f48ec147f58a19c6f9108d191b"
            ]
          },
          "model_module_version": "1.5.0"
        },
        "4f960961c4a046579793a69a3f981980": {
          "model_module": "@jupyter-widgets/base",
          "model_name": "LayoutModel",
          "state": {
            "_view_name": "LayoutView",
            "grid_template_rows": null,
            "right": null,
            "justify_content": null,
            "_view_module": "@jupyter-widgets/base",
            "overflow": null,
            "_model_module_version": "1.2.0",
            "_view_count": null,
            "flex_flow": null,
            "width": null,
            "min_width": null,
            "border": null,
            "align_items": null,
            "bottom": null,
            "_model_module": "@jupyter-widgets/base",
            "top": null,
            "grid_column": null,
            "overflow_y": null,
            "overflow_x": null,
            "grid_auto_flow": null,
            "grid_area": null,
            "grid_template_columns": null,
            "flex": null,
            "_model_name": "LayoutModel",
            "justify_items": null,
            "grid_row": null,
            "max_height": null,
            "align_content": null,
            "visibility": null,
            "align_self": null,
            "height": null,
            "min_height": null,
            "padding": null,
            "grid_auto_rows": null,
            "grid_gap": null,
            "max_width": null,
            "order": null,
            "_view_module_version": "1.2.0",
            "grid_template_areas": null,
            "object_position": null,
            "object_fit": null,
            "grid_auto_columns": null,
            "margin": null,
            "display": null,
            "left": null
          },
          "model_module_version": "1.2.0"
        },
        "492beb8424524bfa9a917f81d54b040f": {
          "model_module": "@jupyter-widgets/controls",
          "model_name": "FloatProgressModel",
          "state": {
            "_view_name": "ProgressView",
            "style": "IPY_MODEL_b83243d955e34acd99a6ae54610055e7",
            "_dom_classes": [],
            "description": "",
            "_model_name": "FloatProgressModel",
            "bar_style": "info",
            "max": 1,
            "_view_module": "@jupyter-widgets/controls",
            "_model_module_version": "1.5.0",
            "value": 1,
            "_view_count": null,
            "_view_module_version": "1.5.0",
            "orientation": "horizontal",
            "min": 0,
            "description_tooltip": null,
            "_model_module": "@jupyter-widgets/controls",
            "layout": "IPY_MODEL_38af849b443b4febb1a26741ae6bcede"
          },
          "model_module_version": "1.5.0"
        },
        "59f128f48ec147f58a19c6f9108d191b": {
          "model_module": "@jupyter-widgets/controls",
          "model_name": "HTMLModel",
          "state": {
            "_view_name": "HTMLView",
            "style": "IPY_MODEL_a41f44f1de7a42dfb4fff16754dca99c",
            "_dom_classes": [],
            "description": "",
            "_model_name": "HTMLModel",
            "placeholder": "​",
            "_view_module": "@jupyter-widgets/controls",
            "_model_module_version": "1.5.0",
            "value": " 170500096/? [00:20&lt;00:00, 31382374.84it/s]",
            "_view_count": null,
            "_view_module_version": "1.5.0",
            "description_tooltip": null,
            "_model_module": "@jupyter-widgets/controls",
            "layout": "IPY_MODEL_cb83dc4d361b4392a92b4ebbb877aedf"
          },
          "model_module_version": "1.5.0"
        },
        "b83243d955e34acd99a6ae54610055e7": {
          "model_module": "@jupyter-widgets/controls",
          "model_name": "ProgressStyleModel",
          "state": {
            "_view_name": "StyleView",
            "_model_name": "ProgressStyleModel",
            "description_width": "initial",
            "_view_module": "@jupyter-widgets/base",
            "_model_module_version": "1.5.0",
            "_view_count": null,
            "_view_module_version": "1.2.0",
            "bar_color": null,
            "_model_module": "@jupyter-widgets/controls"
          },
          "model_module_version": "1.5.0"
        },
        "38af849b443b4febb1a26741ae6bcede": {
          "model_module": "@jupyter-widgets/base",
          "model_name": "LayoutModel",
          "state": {
            "_view_name": "LayoutView",
            "grid_template_rows": null,
            "right": null,
            "justify_content": null,
            "_view_module": "@jupyter-widgets/base",
            "overflow": null,
            "_model_module_version": "1.2.0",
            "_view_count": null,
            "flex_flow": null,
            "width": null,
            "min_width": null,
            "border": null,
            "align_items": null,
            "bottom": null,
            "_model_module": "@jupyter-widgets/base",
            "top": null,
            "grid_column": null,
            "overflow_y": null,
            "overflow_x": null,
            "grid_auto_flow": null,
            "grid_area": null,
            "grid_template_columns": null,
            "flex": null,
            "_model_name": "LayoutModel",
            "justify_items": null,
            "grid_row": null,
            "max_height": null,
            "align_content": null,
            "visibility": null,
            "align_self": null,
            "height": null,
            "min_height": null,
            "padding": null,
            "grid_auto_rows": null,
            "grid_gap": null,
            "max_width": null,
            "order": null,
            "_view_module_version": "1.2.0",
            "grid_template_areas": null,
            "object_position": null,
            "object_fit": null,
            "grid_auto_columns": null,
            "margin": null,
            "display": null,
            "left": null
          },
          "model_module_version": "1.2.0"
        },
        "a41f44f1de7a42dfb4fff16754dca99c": {
          "model_module": "@jupyter-widgets/controls",
          "model_name": "DescriptionStyleModel",
          "state": {
            "_view_name": "StyleView",
            "_model_name": "DescriptionStyleModel",
            "description_width": "",
            "_view_module": "@jupyter-widgets/base",
            "_model_module_version": "1.5.0",
            "_view_count": null,
            "_view_module_version": "1.2.0",
            "_model_module": "@jupyter-widgets/controls"
          },
          "model_module_version": "1.5.0"
        },
        "cb83dc4d361b4392a92b4ebbb877aedf": {
          "model_module": "@jupyter-widgets/base",
          "model_name": "LayoutModel",
          "state": {
            "_view_name": "LayoutView",
            "grid_template_rows": null,
            "right": null,
            "justify_content": null,
            "_view_module": "@jupyter-widgets/base",
            "overflow": null,
            "_model_module_version": "1.2.0",
            "_view_count": null,
            "flex_flow": null,
            "width": null,
            "min_width": null,
            "border": null,
            "align_items": null,
            "bottom": null,
            "_model_module": "@jupyter-widgets/base",
            "top": null,
            "grid_column": null,
            "overflow_y": null,
            "overflow_x": null,
            "grid_auto_flow": null,
            "grid_area": null,
            "grid_template_columns": null,
            "flex": null,
            "_model_name": "LayoutModel",
            "justify_items": null,
            "grid_row": null,
            "max_height": null,
            "align_content": null,
            "visibility": null,
            "align_self": null,
            "height": null,
            "min_height": null,
            "padding": null,
            "grid_auto_rows": null,
            "grid_gap": null,
            "max_width": null,
            "order": null,
            "_view_module_version": "1.2.0",
            "grid_template_areas": null,
            "object_position": null,
            "object_fit": null,
            "grid_auto_columns": null,
            "margin": null,
            "display": null,
            "left": null
          },
          "model_module_version": "1.2.0"
        },
        "0a6d0ca34b5044f3bc66cffe6fc84f6f": {
          "model_module": "@jupyter-widgets/controls",
          "model_name": "HBoxModel",
          "state": {
            "_view_name": "HBoxView",
            "_dom_classes": [],
            "_model_name": "HBoxModel",
            "_view_module": "@jupyter-widgets/controls",
            "_model_module_version": "1.5.0",
            "_view_count": null,
            "_view_module_version": "1.5.0",
            "box_style": "",
            "layout": "IPY_MODEL_5793e4862f9242b59fc5424a1f011cc9",
            "_model_module": "@jupyter-widgets/controls",
            "children": [
              "IPY_MODEL_1d28551f8f77452d9df6271d77084a04",
              "IPY_MODEL_ed73fb8fce874c63847e89f7b27602ea"
            ]
          },
          "model_module_version": "1.5.0"
        },
        "5793e4862f9242b59fc5424a1f011cc9": {
          "model_module": "@jupyter-widgets/base",
          "model_name": "LayoutModel",
          "state": {
            "_view_name": "LayoutView",
            "grid_template_rows": null,
            "right": null,
            "justify_content": null,
            "_view_module": "@jupyter-widgets/base",
            "overflow": null,
            "_model_module_version": "1.2.0",
            "_view_count": null,
            "flex_flow": null,
            "width": null,
            "min_width": null,
            "border": null,
            "align_items": null,
            "bottom": null,
            "_model_module": "@jupyter-widgets/base",
            "top": null,
            "grid_column": null,
            "overflow_y": null,
            "overflow_x": null,
            "grid_auto_flow": null,
            "grid_area": null,
            "grid_template_columns": null,
            "flex": null,
            "_model_name": "LayoutModel",
            "justify_items": null,
            "grid_row": null,
            "max_height": null,
            "align_content": null,
            "visibility": null,
            "align_self": null,
            "height": null,
            "min_height": null,
            "padding": null,
            "grid_auto_rows": null,
            "grid_gap": null,
            "max_width": null,
            "order": null,
            "_view_module_version": "1.2.0",
            "grid_template_areas": null,
            "object_position": null,
            "object_fit": null,
            "grid_auto_columns": null,
            "margin": null,
            "display": null,
            "left": null
          },
          "model_module_version": "1.2.0"
        },
        "1d28551f8f77452d9df6271d77084a04": {
          "model_module": "@jupyter-widgets/controls",
          "model_name": "FloatProgressModel",
          "state": {
            "_view_name": "ProgressView",
            "style": "IPY_MODEL_2e8a251725af439c85a4b4b7ce0d2318",
            "_dom_classes": [],
            "description": "",
            "_model_name": "FloatProgressModel",
            "bar_style": "info",
            "max": 1,
            "_view_module": "@jupyter-widgets/controls",
            "_model_module_version": "1.5.0",
            "value": 1,
            "_view_count": null,
            "_view_module_version": "1.5.0",
            "orientation": "horizontal",
            "min": 0,
            "description_tooltip": null,
            "_model_module": "@jupyter-widgets/controls",
            "layout": "IPY_MODEL_6c4cfe08ceb345f9ad6b59bd7a2073fb"
          },
          "model_module_version": "1.5.0"
        },
        "ed73fb8fce874c63847e89f7b27602ea": {
          "model_module": "@jupyter-widgets/controls",
          "model_name": "HTMLModel",
          "state": {
            "_view_name": "HTMLView",
            "style": "IPY_MODEL_2ccff22ef46d4ec7839a241151d92359",
            "_dom_classes": [],
            "description": "",
            "_model_name": "HTMLModel",
            "placeholder": "​",
            "_view_module": "@jupyter-widgets/controls",
            "_model_module_version": "1.5.0",
            "value": " 170500096/? [00:20&lt;00:00, 52445211.33it/s]",
            "_view_count": null,
            "_view_module_version": "1.5.0",
            "description_tooltip": null,
            "_model_module": "@jupyter-widgets/controls",
            "layout": "IPY_MODEL_e6b3465ec1e14fb9ad9a6ad8d8358dd6"
          },
          "model_module_version": "1.5.0"
        },
        "2e8a251725af439c85a4b4b7ce0d2318": {
          "model_module": "@jupyter-widgets/controls",
          "model_name": "ProgressStyleModel",
          "state": {
            "_view_name": "StyleView",
            "_model_name": "ProgressStyleModel",
            "description_width": "initial",
            "_view_module": "@jupyter-widgets/base",
            "_model_module_version": "1.5.0",
            "_view_count": null,
            "_view_module_version": "1.2.0",
            "bar_color": null,
            "_model_module": "@jupyter-widgets/controls"
          },
          "model_module_version": "1.5.0"
        },
        "6c4cfe08ceb345f9ad6b59bd7a2073fb": {
          "model_module": "@jupyter-widgets/base",
          "model_name": "LayoutModel",
          "state": {
            "_view_name": "LayoutView",
            "grid_template_rows": null,
            "right": null,
            "justify_content": null,
            "_view_module": "@jupyter-widgets/base",
            "overflow": null,
            "_model_module_version": "1.2.0",
            "_view_count": null,
            "flex_flow": null,
            "width": null,
            "min_width": null,
            "border": null,
            "align_items": null,
            "bottom": null,
            "_model_module": "@jupyter-widgets/base",
            "top": null,
            "grid_column": null,
            "overflow_y": null,
            "overflow_x": null,
            "grid_auto_flow": null,
            "grid_area": null,
            "grid_template_columns": null,
            "flex": null,
            "_model_name": "LayoutModel",
            "justify_items": null,
            "grid_row": null,
            "max_height": null,
            "align_content": null,
            "visibility": null,
            "align_self": null,
            "height": null,
            "min_height": null,
            "padding": null,
            "grid_auto_rows": null,
            "grid_gap": null,
            "max_width": null,
            "order": null,
            "_view_module_version": "1.2.0",
            "grid_template_areas": null,
            "object_position": null,
            "object_fit": null,
            "grid_auto_columns": null,
            "margin": null,
            "display": null,
            "left": null
          },
          "model_module_version": "1.2.0"
        },
        "2ccff22ef46d4ec7839a241151d92359": {
          "model_module": "@jupyter-widgets/controls",
          "model_name": "DescriptionStyleModel",
          "state": {
            "_view_name": "StyleView",
            "_model_name": "DescriptionStyleModel",
            "description_width": "",
            "_view_module": "@jupyter-widgets/base",
            "_model_module_version": "1.5.0",
            "_view_count": null,
            "_view_module_version": "1.2.0",
            "_model_module": "@jupyter-widgets/controls"
          },
          "model_module_version": "1.5.0"
        },
        "e6b3465ec1e14fb9ad9a6ad8d8358dd6": {
          "model_module": "@jupyter-widgets/base",
          "model_name": "LayoutModel",
          "state": {
            "_view_name": "LayoutView",
            "grid_template_rows": null,
            "right": null,
            "justify_content": null,
            "_view_module": "@jupyter-widgets/base",
            "overflow": null,
            "_model_module_version": "1.2.0",
            "_view_count": null,
            "flex_flow": null,
            "width": null,
            "min_width": null,
            "border": null,
            "align_items": null,
            "bottom": null,
            "_model_module": "@jupyter-widgets/base",
            "top": null,
            "grid_column": null,
            "overflow_y": null,
            "overflow_x": null,
            "grid_auto_flow": null,
            "grid_area": null,
            "grid_template_columns": null,
            "flex": null,
            "_model_name": "LayoutModel",
            "justify_items": null,
            "grid_row": null,
            "max_height": null,
            "align_content": null,
            "visibility": null,
            "align_self": null,
            "height": null,
            "min_height": null,
            "padding": null,
            "grid_auto_rows": null,
            "grid_gap": null,
            "max_width": null,
            "order": null,
            "_view_module_version": "1.2.0",
            "grid_template_areas": null,
            "object_position": null,
            "object_fit": null,
            "grid_auto_columns": null,
            "margin": null,
            "display": null,
            "left": null
          },
          "model_module_version": "1.2.0"
        }
      }
    },
    "accelerator": "GPU"
  },
  "cells": [
    {
      "cell_type": "markdown",
      "metadata": {
        "id": "view-in-github",
        "colab_type": "text"
      },
      "source": [
        "<a href=\"https://colab.research.google.com/github/harsh-sengar/Computer-Vision-Projects/blob/main/ResNet_CIFAR10.ipynb\" target=\"_parent\"><img src=\"https://colab.research.google.com/assets/colab-badge.svg\" alt=\"Open In Colab\"/></a>"
      ]
    },
    {
      "cell_type": "code",
      "metadata": {
        "id": "OyyBsMEta6-b"
      },
      "source": [
        "import torch\n",
        "import torchvision\n",
        "import torchvision.transforms as transforms\n",
        "from PIL import Image"
      ],
      "execution_count": null,
      "outputs": []
    },
    {
      "cell_type": "code",
      "metadata": {
        "colab": {
          "base_uri": "https://localhost:8080/"
        },
        "id": "oHXtH_0Wpg3P",
        "outputId": "77103363-7b9a-4147-f3dd-db0fba2061aa"
      },
      "source": [
        "!nvidia-smi\n"
      ],
      "execution_count": null,
      "outputs": [
        {
          "output_type": "stream",
          "text": [
            "Tue Mar 23 05:55:00 2021       \n",
            "+-----------------------------------------------------------------------------+\n",
            "| NVIDIA-SMI 460.56       Driver Version: 460.32.03    CUDA Version: 11.2     |\n",
            "|-------------------------------+----------------------+----------------------+\n",
            "| GPU  Name        Persistence-M| Bus-Id        Disp.A | Volatile Uncorr. ECC |\n",
            "| Fan  Temp  Perf  Pwr:Usage/Cap|         Memory-Usage | GPU-Util  Compute M. |\n",
            "|                               |                      |               MIG M. |\n",
            "|===============================+======================+======================|\n",
            "|   0  Tesla T4            Off  | 00000000:00:04.0 Off |                    0 |\n",
            "| N/A   48C    P8    10W /  70W |      0MiB / 15109MiB |      0%      Default |\n",
            "|                               |                      |                  N/A |\n",
            "+-------------------------------+----------------------+----------------------+\n",
            "                                                                               \n",
            "+-----------------------------------------------------------------------------+\n",
            "| Processes:                                                                  |\n",
            "|  GPU   GI   CI        PID   Type   Process name                  GPU Memory |\n",
            "|        ID   ID                                                   Usage      |\n",
            "|=============================================================================|\n",
            "|  No running processes found                                                 |\n",
            "+-----------------------------------------------------------------------------+\n"
          ],
          "name": "stdout"
        }
      ]
    },
    {
      "cell_type": "code",
      "metadata": {
        "id": "UOH6bKaypvHl"
      },
      "source": [
        ""
      ],
      "execution_count": null,
      "outputs": []
    },
    {
      "cell_type": "code",
      "metadata": {
        "id": "DnRlkzUYcASC"
      },
      "source": [
        "transform = transforms.Compose(\n",
        "    [transforms.ToTensor(),\n",
        "     transforms.Normalize((0.5, 0.5, 0.5), (0.5, 0.5, 0.5))])"
      ],
      "execution_count": null,
      "outputs": []
    },
    {
      "cell_type": "code",
      "metadata": {
        "colab": {
          "base_uri": "https://localhost:8080/",
          "height": 83,
          "referenced_widgets": [
            "a2517c48ff6c488d9b4314fe20cd450c",
            "4f960961c4a046579793a69a3f981980",
            "492beb8424524bfa9a917f81d54b040f",
            "59f128f48ec147f58a19c6f9108d191b",
            "b83243d955e34acd99a6ae54610055e7",
            "38af849b443b4febb1a26741ae6bcede",
            "a41f44f1de7a42dfb4fff16754dca99c",
            "cb83dc4d361b4392a92b4ebbb877aedf"
          ]
        },
        "id": "pPIzzct4cEWo",
        "outputId": "ace06ea6-070f-4a06-b503-c12af8fa3e37"
      },
      "source": [
        "trainset = torchvision.datasets.CIFAR10(root='./data', train=True,\n",
        "                                        download=True, transform=transform)"
      ],
      "execution_count": null,
      "outputs": [
        {
          "output_type": "stream",
          "text": [
            "Downloading https://www.cs.toronto.edu/~kriz/cifar-10-python.tar.gz to ./data/cifar-10-python.tar.gz\n"
          ],
          "name": "stdout"
        },
        {
          "output_type": "display_data",
          "data": {
            "application/vnd.jupyter.widget-view+json": {
              "model_id": "a2517c48ff6c488d9b4314fe20cd450c",
              "version_minor": 0,
              "version_major": 2
            },
            "text/plain": [
              "HBox(children=(FloatProgress(value=1.0, bar_style='info', max=1.0), HTML(value='')))"
            ]
          },
          "metadata": {
            "tags": []
          }
        },
        {
          "output_type": "stream",
          "text": [
            "Extracting ./data/cifar-10-python.tar.gz to ./data\n"
          ],
          "name": "stdout"
        }
      ]
    },
    {
      "cell_type": "code",
      "metadata": {
        "id": "ext6vtzCcKI1"
      },
      "source": [
        ""
      ],
      "execution_count": null,
      "outputs": []
    },
    {
      "cell_type": "code",
      "metadata": {
        "id": "ukxVFH-bahm0",
        "colab": {
          "base_uri": "https://localhost:8080/"
        },
        "outputId": "8e17c774-5085-43f8-aa9a-ac23f088727a"
      },
      "source": [
        "\n",
        "trainloader = torch.utils.data.DataLoader(trainset, batch_size=4,\n",
        "                                          shuffle=True, num_workers=2)\n",
        "\n",
        "testset = torchvision.datasets.CIFAR10(root='./data', train=False,\n",
        "                                       download=True, transform=transform)\n",
        "testloader = torch.utils.data.DataLoader(testset, batch_size=4,\n",
        "                                         shuffle=False, num_workers=2)\n",
        "\n",
        "classes = ('plane', 'car', 'bird', 'cat',\n",
        "           'deer', 'dog', 'frog', 'horse', 'ship', 'truck')"
      ],
      "execution_count": null,
      "outputs": [
        {
          "output_type": "stream",
          "text": [
            "Files already downloaded and verified\n"
          ],
          "name": "stdout"
        }
      ]
    },
    {
      "cell_type": "code",
      "metadata": {
        "id": "m8FUuwnhb_Pi",
        "colab": {
          "base_uri": "https://localhost:8080/",
          "height": 155
        },
        "outputId": "e4583d0c-86db-44ce-98a5-dcfd2baa20b0"
      },
      "source": [
        ""
      ],
      "execution_count": null,
      "outputs": [
        {
          "output_type": "display_data",
          "data": {
            "image/png": "[encoded data removed]",
            "text/plain": [
              "<Figure size 432x288 with 1 Axes>"
            ]
          },
          "metadata": {
            "tags": [],
            "needs_background": "light"
          }
        },
        {
          "output_type": "stream",
          "text": [
            " deer  frog   car  deer\n"
          ],
          "name": "stdout"
        }
      ]
    },
    {
      "cell_type": "code",
      "metadata": {
        "id": "6yZBJUvOjIwM"
      },
      "source": [
        "import torch.nn as nn\n",
        "import torch.nn.functional as F\n",
        "\n",
        "\n",
        "class Net(nn.Module):\n",
        "    def __init__(self):\n",
        "        super(Net, self).__init__()\n",
        "        self.conv1 = nn.Conv2d(3, 6, 5)\n",
        "        self.pool = nn.MaxPool2d(2, 2)\n",
        "        self.conv2 = nn.Conv2d(6, 16, 5)\n",
        "        self.fc1 = nn.Linear(16 * 5 * 5, 120)\n",
        "        self.fc2 = nn.Linear(120, 84)\n",
        "        self.fc3 = nn.Linear(84, 10)\n",
        "\n",
        "    def forward(self, x):\n",
        "        x = self.pool(F.relu(self.conv1(x)))\n",
        "        x = self.pool(F.relu(self.conv2(x)))\n",
        "        x = x.view(-1, 16 * 5 * 5)\n",
        "        x = F.relu(self.fc1(x))\n",
        "        x = F.relu(self.fc2(x))\n",
        "        x = self.fc3(x)\n",
        "        return x\n",
        "\n",
        "\n",
        "net = Net()"
      ],
      "execution_count": null,
      "outputs": []
    },
    {
      "cell_type": "code",
      "metadata": {
        "id": "0UJsq6fYaht7"
      },
      "source": [
        "import torch.optim as optim\n",
        "\n",
        "criterion = nn.CrossEntropyLoss()\n",
        "optimizer = optim.SGD(net.parameters(), lr=0.001, momentum=0.9)"
      ],
      "execution_count": null,
      "outputs": []
    },
    {
      "cell_type": "code",
      "metadata": {
        "id": "4Y9gVCbnah4e",
        "colab": {
          "base_uri": "https://localhost:8080/"
        },
        "outputId": "37012048-4e94-4be5-8dc6-c8129b2c347f"
      },
      "source": [
        "for epoch in range(2):  # loop over the dataset multiple times\n",
        "\n",
        "    running_loss = 0.0\n",
        "    for i, data in enumerate(trainloader, 0):\n",
        "        # get the inputs; data is a list of [inputs, labels]\n",
        "        inputs, labels = data\n",
        "\n",
        "        # zero the parameter gradients\n",
        "        optimizer.zero_grad()\n",
        "\n",
        "        # forward + backward + optimize\n",
        "        outputs = net(inputs)\n",
        "        loss = criterion(outputs, labels)\n",
        "        loss.backward()\n",
        "        optimizer.step()\n",
        "\n",
        "        # print statistics\n",
        "        running_loss += loss.item()\n",
        "        if i % 2000 == 1999:    # print every 2000 mini-batches\n",
        "            print('[%d, %5d] loss: %.3f' %\n",
        "                  (epoch + 1, i + 1, running_loss / 2000))\n",
        "            running_loss = 0.0\n",
        "\n",
        "print('Finished Training')"
      ],
      "execution_count": null,
      "outputs": [
        {
          "output_type": "stream",
          "text": [
            "[1,  2000] loss: 2.240\n",
            "[1,  4000] loss: 1.831\n",
            "[1,  6000] loss: 1.666\n",
            "[1,  8000] loss: 1.586\n",
            "[1, 10000] loss: 1.498\n",
            "[1, 12000] loss: 1.464\n",
            "[2,  2000] loss: 1.380\n",
            "[2,  4000] loss: 1.359\n",
            "[2,  6000] loss: 1.310\n",
            "[2,  8000] loss: 1.310\n",
            "[2, 10000] loss: 1.294\n",
            "[2, 12000] loss: 1.250\n",
            "Finished Training\n"
          ],
          "name": "stdout"
        }
      ]
    },
    {
      "cell_type": "code",
      "metadata": {
        "id": "qyz6m6Bcah9R"
      },
      "source": [
        "PATH = './cifar_net.pth'\n",
        "torch.save(net.state_dict(), PATH)"
      ],
      "execution_count": null,
      "outputs": []
    },
    {
      "cell_type": "code",
      "metadata": {
        "id": "TllMeOeKaiFS",
        "colab": {
          "base_uri": "https://localhost:8080/",
          "height": 155
        },
        "outputId": "4140849a-d201-4ef2-8f6d-582cd2163205"
      },
      "source": [
        "dataiter = iter(testloader)\n",
        "images, labels = dataiter.next()\n",
        "\n",
        "# print images\n",
        "imshow(torchvision.utils.make_grid(images))\n",
        "print('GroundTruth: ', ' '.join('%5s' % classes[labels[j]] for j in range(4)))"
      ],
      "execution_count": null,
      "outputs": [
        {
          "output_type": "display_data",
          "data": {
            "image/png": "[encoded data removed]",
            "text/plain": [
              "<Figure size 432x288 with 1 Axes>"
            ]
          },
          "metadata": {
            "tags": [],
            "needs_background": "light"
          }
        },
        {
          "output_type": "stream",
          "text": [
            "GroundTruth:    cat  ship  ship plane\n"
          ],
          "name": "stdout"
        }
      ]
    },
    {
      "cell_type": "code",
      "metadata": {
        "id": "BfjIALs1aiI7",
        "colab": {
          "base_uri": "https://localhost:8080/"
        },
        "outputId": "d5cc61d6-e718-4ecf-db18-bd93856b1471"
      },
      "source": [
        "net = Net()\n",
        "net.load_state_dict(torch.load(PATH))"
      ],
      "execution_count": null,
      "outputs": [
        {
          "output_type": "execute_result",
          "data": {
            "text/plain": [
              "<All keys matched successfully>"
            ]
          },
          "metadata": {
            "tags": []
          },
          "execution_count": 13
        }
      ]
    },
    {
      "cell_type": "code",
      "metadata": {
        "id": "e9-Nqha7aiOk"
      },
      "source": [
        "outputs = net(images)"
      ],
      "execution_count": null,
      "outputs": []
    },
    {
      "cell_type": "code",
      "metadata": {
        "id": "zQgwi_KuaiWX",
        "colab": {
          "base_uri": "https://localhost:8080/"
        },
        "outputId": "ee3be33b-8c8b-46c6-ee6c-3fccd58b0115"
      },
      "source": [
        "_, predicted = torch.max(outputs, 1)\n",
        "\n",
        "print('Predicted: ', ' '.join('%5s' % classes[predicted[j]]\n",
        "                              for j in range(4)))"
      ],
      "execution_count": null,
      "outputs": [
        {
          "output_type": "stream",
          "text": [
            "Predicted:    cat   car  ship plane\n"
          ],
          "name": "stdout"
        }
      ]
    },
    {
      "cell_type": "code",
      "metadata": {
        "colab": {
          "base_uri": "https://localhost:8080/"
        },
        "id": "3nxb4bXtaifw",
        "outputId": "c84c9753-7ca8-4d1e-ff2b-45286d9d3738"
      },
      "source": [
        "correct = 0\n",
        "total = 0\n",
        "with torch.no_grad():\n",
        "    for data in testloader:\n",
        "        images, labels = data\n",
        "        outputs = net(images)\n",
        "        _, predicted = torch.max(outputs.data, 1)\n",
        "        total += labels.size(0)\n",
        "        correct += (predicted == labels).sum().item()\n",
        "\n",
        "print('Accuracy of the network on the 10000 test images: %d %%' % (\n",
        "    100 * correct / total))"
      ],
      "execution_count": null,
      "outputs": [
        {
          "output_type": "stream",
          "text": [
            "Accuracy of the network on the 10000 test images: 55 %\n"
          ],
          "name": "stdout"
        }
      ]
    },
    {
      "cell_type": "code",
      "metadata": {
        "colab": {
          "base_uri": "https://localhost:8080/"
        },
        "id": "DW-wSwviP1tt",
        "outputId": "5fd2f43e-1781-41cd-cd3f-c5456d435c95"
      },
      "source": [
        "class_correct = list(0. for i in range(10))\n",
        "class_total = list(0. for i in range(10))\n",
        "with torch.no_grad():\n",
        "    for data in testloader:\n",
        "        images, labels = data\n",
        "        outputs = net(images)\n",
        "        _, predicted = torch.max(outputs, 1)\n",
        "        c = (predicted == labels).squeeze()\n",
        "        for i in range(4):\n",
        "            label = labels[i]\n",
        "            class_correct[label] += c[i].item()\n",
        "            class_total[label] += 1\n",
        "\n",
        "\n",
        "for i in range(10):\n",
        "    print('Accuracy of %5s : %2d %%' % (\n",
        "        classes[i], 100 * class_correct[i] / class_total[i]))"
      ],
      "execution_count": null,
      "outputs": [
        {
          "output_type": "stream",
          "text": [
            "Accuracy of plane : 60 %\n",
            "Accuracy of   car : 72 %\n",
            "Accuracy of  bird : 25 %\n",
            "Accuracy of   cat : 47 %\n",
            "Accuracy of  deer : 49 %\n",
            "Accuracy of   dog : 38 %\n",
            "Accuracy of  frog : 53 %\n",
            "Accuracy of horse : 64 %\n",
            "Accuracy of  ship : 63 %\n",
            "Accuracy of truck : 76 %\n"
          ],
          "name": "stdout"
        }
      ]
    },
    {
      "cell_type": "code",
      "metadata": {
        "id": "4ZURytsgP1xv"
      },
      "source": [
        ""
      ],
      "execution_count": null,
      "outputs": []
    },
    {
      "cell_type": "code",
      "metadata": {
        "colab": {
          "base_uri": "https://localhost:8080/",
          "height": 1000,
          "referenced_widgets": [
            "0a6d0ca34b5044f3bc66cffe6fc84f6f",
            "5793e4862f9242b59fc5424a1f011cc9",
            "1d28551f8f77452d9df6271d77084a04",
            "ed73fb8fce874c63847e89f7b27602ea",
            "2e8a251725af439c85a4b4b7ce0d2318",
            "6c4cfe08ceb345f9ad6b59bd7a2073fb",
            "2ccff22ef46d4ec7839a241151d92359",
            "e6b3465ec1e14fb9ad9a6ad8d8358dd6"
          ]
        },
        "id": "mbIE2OVCP11h",
        "outputId": "fedd099e-ec87-4358-d53d-f0ae2e402d20"
      },
      "source": [
        "import torch\n",
        "import torch.nn as nn\n",
        "import torchvision\n",
        "import torchvision.transforms as transforms\n",
        "\n",
        "\n",
        "# Device configuration\n",
        "device = torch.device('cuda' if torch.cuda.is_available() else 'cpu')\n",
        "\n",
        "# Hyper-parameters\n",
        "num_epochs = 80\n",
        "learning_rate = 0.001\n",
        "\n",
        "# Image preprocessing modules\n",
        "transform = transforms.Compose([\n",
        "    transforms.Pad(4),\n",
        "    transforms.RandomHorizontalFlip(),\n",
        "    transforms.RandomCrop(32),\n",
        "    transforms.ToTensor()])\n",
        "\n",
        "# CIFAR-10 dataset\n",
        "train_dataset = torchvision.datasets.CIFAR10(root='../../data/',\n",
        "                                             train=True, \n",
        "                                             transform=transform,\n",
        "                                             download=True)\n",
        "\n",
        "test_dataset = torchvision.datasets.CIFAR10(root='../../data/',\n",
        "                                            train=False, \n",
        "                                            transform=transforms.ToTensor())\n",
        "\n",
        "# Data loader\n",
        "train_loader = torch.utils.data.DataLoader(dataset=train_dataset,\n",
        "                                           batch_size=100, \n",
        "                                           shuffle=True)\n",
        "\n",
        "test_loader = torch.utils.data.DataLoader(dataset=test_dataset,\n",
        "                                          batch_size=100, \n",
        "                                          shuffle=False)\n",
        "\n",
        "# 3x3 convolution\n",
        "def conv3x3(in_channels, out_channels, stride=1):\n",
        "    return nn.Conv2d(in_channels, out_channels, kernel_size=3, \n",
        "                     stride=stride, padding=1, bias=False)\n",
        "\n",
        "# Residual block\n",
        "class ResidualBlock(nn.Module):\n",
        "    def __init__(self, in_channels, out_channels, stride=1, downsample=None):\n",
        "        super(ResidualBlock, self).__init__()\n",
        "        self.conv1 = conv3x3(in_channels, out_channels, stride)\n",
        "        self.bn1 = nn.BatchNorm2d(out_channels)\n",
        "        self.relu = nn.ReLU(inplace=True)\n",
        "        self.conv2 = conv3x3(out_channels, out_channels)\n",
        "        self.bn2 = nn.BatchNorm2d(out_channels)\n",
        "        self.downsample = downsample\n",
        "\n",
        "    def forward(self, x):\n",
        "        residual = x\n",
        "        out = self.conv1(x)\n",
        "        out = self.bn1(out)\n",
        "        out = self.relu(out)\n",
        "        out = self.conv2(out)\n",
        "        out = self.bn2(out)\n",
        "        if self.downsample:\n",
        "            residual = self.downsample(x)\n",
        "        out += residual\n",
        "        out = self.relu(out)\n",
        "        return out\n",
        "\n",
        "# ResNet\n",
        "class ResNet(nn.Module):\n",
        "    def __init__(self, block, layers, num_classes=10):\n",
        "        super(ResNet, self).__init__()\n",
        "        self.in_channels = 16\n",
        "        self.conv = conv3x3(3, 16)\n",
        "        self.bn = nn.BatchNorm2d(16)\n",
        "        self.relu = nn.ReLU(inplace=True)\n",
        "        self.layer1 = self.make_layer(block, 16, layers[0])\n",
        "        self.layer2 = self.make_layer(block, 32, layers[1], 2)\n",
        "        self.layer3 = self.make_layer(block, 64, layers[2], 2)\n",
        "        self.avg_pool = nn.AvgPool2d(8)\n",
        "        self.fc = nn.Linear(64, num_classes)\n",
        "\n",
        "    def make_layer(self, block, out_channels, blocks, stride=1):\n",
        "        downsample = None\n",
        "        if (stride != 1) or (self.in_channels != out_channels):\n",
        "            downsample = nn.Sequential(\n",
        "                conv3x3(self.in_channels, out_channels, stride=stride),\n",
        "                nn.BatchNorm2d(out_channels))\n",
        "        layers = []\n",
        "        layers.append(block(self.in_channels, out_channels, stride, downsample))\n",
        "        self.in_channels = out_channels\n",
        "        for i in range(1, blocks):\n",
        "            layers.append(block(out_channels, out_channels))\n",
        "        return nn.Sequential(*layers)\n",
        "\n",
        "    def forward(self, x):\n",
        "        out = self.conv(x)\n",
        "        out = self.bn(out)\n",
        "        out = self.relu(out)\n",
        "        out = self.layer1(out)\n",
        "        out = self.layer2(out)\n",
        "        out = self.layer3(out)\n",
        "        out = self.avg_pool(out)\n",
        "        out = out.view(out.size(0), -1)\n",
        "        out = self.fc(out)\n",
        "        return out\n",
        "\n",
        "model = ResNet(ResidualBlock, [2, 2, 2]).to(device)\n",
        "\n",
        "\n",
        "# Loss and optimizer\n",
        "criterion = nn.CrossEntropyLoss()\n",
        "optimizer = torch.optim.Adam(model.parameters(), lr=learning_rate)\n",
        "\n",
        "# For updating learning rate\n",
        "def update_lr(optimizer, lr):    \n",
        "    for param_group in optimizer.param_groups:\n",
        "        param_group['lr'] = lr\n",
        "\n",
        "# Train the model\n",
        "total_step = len(train_loader)\n",
        "curr_lr = learning_rate\n",
        "for epoch in range(num_epochs):\n",
        "    for i, (images, labels) in enumerate(train_loader):\n",
        "        images = images.to(device)\n",
        "        labels = labels.to(device)\n",
        "\n",
        "        # Forward pass\n",
        "        outputs = model(images)\n",
        "        loss = criterion(outputs, labels)\n",
        "\n",
        "        # Backward and optimize\n",
        "        optimizer.zero_grad()\n",
        "        loss.backward()\n",
        "        optimizer.step()\n",
        "\n",
        "        if (i+1) % 100 == 0:\n",
        "            print (\"Epoch [{}/{}], Step [{}/{}] Loss: {:.4f}\"\n",
        "                   .format(epoch+1, num_epochs, i+1, total_step, loss.item()))\n",
        "\n",
        "    # Decay learning rate\n",
        "    if (epoch+1) % 20 == 0:\n",
        "        curr_lr /= 3\n",
        "        update_lr(optimizer, curr_lr)\n",
        "\n",
        "# Test the model\n",
        "model.eval()\n",
        "with torch.no_grad():\n",
        "    correct = 0\n",
        "    total = 0\n",
        "    for images, labels in test_loader:\n",
        "        images = images.to(device)\n",
        "        labels = labels.to(device)\n",
        "        outputs = model(images)\n",
        "        _, predicted = torch.max(outputs.data, 1)\n",
        "        total += labels.size(0)\n",
        "        correct += (predicted == labels).sum().item()\n",
        "\n",
        "    print('Accuracy of the model on the test images: {} %'.format(100 * correct / total))\n",
        "\n",
        "# Save the model checkpoint\n",
        "torch.save(model.state_dict(), 'resnet.ckpt')"
      ],
      "execution_count": null,
      "outputs": [
        {
          "output_type": "stream",
          "text": [
            "Downloading https://www.cs.toronto.edu/~kriz/cifar-10-python.tar.gz to ../../data/cifar-10-python.tar.gz\n"
          ],
          "name": "stdout"
        },
        {
          "output_type": "display_data",
          "data": {
            "application/vnd.jupyter.widget-view+json": {
              "model_id": "0a6d0ca34b5044f3bc66cffe6fc84f6f",
              "version_minor": 0,
              "version_major": 2
            },
            "text/plain": [
              "HBox(children=(FloatProgress(value=1.0, bar_style='info', max=1.0), HTML(value='')))"
            ]
          },
          "metadata": {
            "tags": []
          }
        },
        {
          "output_type": "stream",
          "text": [
            "Extracting ../../data/cifar-10-python.tar.gz to ../../data/\n",
            "Epoch [1/80], Step [100/500] Loss: 1.7394\n",
            "Epoch [1/80], Step [200/500] Loss: 1.3718\n",
            "Epoch [1/80], Step [300/500] Loss: 1.3054\n",
            "Epoch [1/80], Step [400/500] Loss: 1.1802\n",
            "Epoch [1/80], Step [500/500] Loss: 1.1223\n",
            "Epoch [2/80], Step [100/500] Loss: 1.0433\n",
            "Epoch [2/80], Step [200/500] Loss: 0.9475\n",
            "Epoch [2/80], Step [300/500] Loss: 1.2835\n",
            "Epoch [2/80], Step [400/500] Loss: 0.8642\n",
            "Epoch [2/80], Step [500/500] Loss: 0.9108\n",
            "Epoch [3/80], Step [100/500] Loss: 0.8710\n",
            "Epoch [3/80], Step [200/500] Loss: 1.0277\n",
            "Epoch [3/80], Step [300/500] Loss: 0.9986\n",
            "Epoch [3/80], Step [400/500] Loss: 0.9027\n",
            "Epoch [3/80], Step [500/500] Loss: 0.7666\n",
            "Epoch [4/80], Step [100/500] Loss: 0.8552\n",
            "Epoch [4/80], Step [200/500] Loss: 0.7320\n",
            "Epoch [4/80], Step [300/500] Loss: 0.6461\n",
            "Epoch [4/80], Step [400/500] Loss: 0.6383\n",
            "Epoch [4/80], Step [500/500] Loss: 0.7547\n",
            "Epoch [5/80], Step [100/500] Loss: 0.7931\n",
            "Epoch [5/80], Step [200/500] Loss: 0.6464\n",
            "Epoch [5/80], Step [300/500] Loss: 0.6923\n",
            "Epoch [5/80], Step [400/500] Loss: 0.7676\n",
            "Epoch [5/80], Step [500/500] Loss: 0.6999\n",
            "Epoch [6/80], Step [100/500] Loss: 0.5348\n",
            "Epoch [6/80], Step [200/500] Loss: 0.6315\n",
            "Epoch [6/80], Step [300/500] Loss: 0.5273\n",
            "Epoch [6/80], Step [400/500] Loss: 0.5197\n",
            "Epoch [6/80], Step [500/500] Loss: 0.5209\n",
            "Epoch [7/80], Step [100/500] Loss: 0.5479\n",
            "Epoch [7/80], Step [200/500] Loss: 0.5791\n",
            "Epoch [7/80], Step [300/500] Loss: 0.6299\n",
            "Epoch [7/80], Step [400/500] Loss: 0.5671\n",
            "Epoch [7/80], Step [500/500] Loss: 0.5731\n",
            "Epoch [8/80], Step [100/500] Loss: 0.5092\n",
            "Epoch [8/80], Step [200/500] Loss: 0.5686\n",
            "Epoch [8/80], Step [300/500] Loss: 0.6896\n",
            "Epoch [8/80], Step [400/500] Loss: 0.5668\n",
            "Epoch [8/80], Step [500/500] Loss: 0.4724\n",
            "Epoch [9/80], Step [100/500] Loss: 0.4122\n",
            "Epoch [9/80], Step [200/500] Loss: 0.7046\n",
            "Epoch [9/80], Step [300/500] Loss: 0.5625\n",
            "Epoch [9/80], Step [400/500] Loss: 0.6658\n",
            "Epoch [9/80], Step [500/500] Loss: 0.4830\n",
            "Epoch [10/80], Step [100/500] Loss: 0.5303\n",
            "Epoch [10/80], Step [200/500] Loss: 0.5225\n",
            "Epoch [10/80], Step [300/500] Loss: 0.6183\n",
            "Epoch [10/80], Step [400/500] Loss: 0.6300\n",
            "Epoch [10/80], Step [500/500] Loss: 0.8171\n",
            "Epoch [11/80], Step [100/500] Loss: 0.3778\n",
            "Epoch [11/80], Step [200/500] Loss: 0.8401\n",
            "Epoch [11/80], Step [300/500] Loss: 0.3991\n",
            "Epoch [11/80], Step [400/500] Loss: 0.4387\n",
            "Epoch [11/80], Step [500/500] Loss: 0.5998\n",
            "Epoch [12/80], Step [100/500] Loss: 0.3971\n",
            "Epoch [12/80], Step [200/500] Loss: 0.5298\n",
            "Epoch [12/80], Step [300/500] Loss: 0.5131\n",
            "Epoch [12/80], Step [400/500] Loss: 0.4606\n",
            "Epoch [12/80], Step [500/500] Loss: 0.4689\n",
            "Epoch [13/80], Step [100/500] Loss: 0.4117\n",
            "Epoch [13/80], Step [200/500] Loss: 0.4091\n",
            "Epoch [13/80], Step [300/500] Loss: 0.5526\n",
            "Epoch [13/80], Step [400/500] Loss: 0.3682\n",
            "Epoch [13/80], Step [500/500] Loss: 0.2933\n",
            "Epoch [14/80], Step [100/500] Loss: 0.4695\n",
            "Epoch [14/80], Step [200/500] Loss: 0.4247\n",
            "Epoch [14/80], Step [300/500] Loss: 0.7337\n",
            "Epoch [14/80], Step [400/500] Loss: 0.4485\n",
            "Epoch [14/80], Step [500/500] Loss: 0.3441\n",
            "Epoch [15/80], Step [100/500] Loss: 0.5122\n",
            "Epoch [15/80], Step [200/500] Loss: 0.3871\n",
            "Epoch [15/80], Step [300/500] Loss: 0.3195\n",
            "Epoch [15/80], Step [400/500] Loss: 0.4241\n",
            "Epoch [15/80], Step [500/500] Loss: 0.2566\n",
            "Epoch [16/80], Step [100/500] Loss: 0.5564\n",
            "Epoch [16/80], Step [200/500] Loss: 0.3877\n",
            "Epoch [16/80], Step [300/500] Loss: 0.2698\n",
            "Epoch [16/80], Step [400/500] Loss: 0.4882\n",
            "Epoch [16/80], Step [500/500] Loss: 0.5496\n",
            "Epoch [17/80], Step [100/500] Loss: 0.2979\n",
            "Epoch [17/80], Step [200/500] Loss: 0.3425\n",
            "Epoch [17/80], Step [300/500] Loss: 0.5880\n",
            "Epoch [17/80], Step [400/500] Loss: 0.2487\n",
            "Epoch [17/80], Step [500/500] Loss: 0.6212\n",
            "Epoch [18/80], Step [100/500] Loss: 0.3261\n",
            "Epoch [18/80], Step [200/500] Loss: 0.3412\n",
            "Epoch [18/80], Step [300/500] Loss: 0.3943\n",
            "Epoch [18/80], Step [400/500] Loss: 0.3735\n",
            "Epoch [18/80], Step [500/500] Loss: 0.4379\n",
            "Epoch [19/80], Step [100/500] Loss: 0.4900\n",
            "Epoch [19/80], Step [200/500] Loss: 0.2822\n",
            "Epoch [19/80], Step [300/500] Loss: 0.3631\n",
            "Epoch [19/80], Step [400/500] Loss: 0.5262\n",
            "Epoch [19/80], Step [500/500] Loss: 0.3900\n",
            "Epoch [20/80], Step [100/500] Loss: 0.3875\n",
            "Epoch [20/80], Step [200/500] Loss: 0.4419\n",
            "Epoch [20/80], Step [300/500] Loss: 0.2943\n",
            "Epoch [20/80], Step [400/500] Loss: 0.4057\n",
            "Epoch [20/80], Step [500/500] Loss: 0.2116\n",
            "Epoch [21/80], Step [100/500] Loss: 0.1482\n",
            "Epoch [21/80], Step [200/500] Loss: 0.2422\n",
            "Epoch [21/80], Step [300/500] Loss: 0.2771\n",
            "Epoch [21/80], Step [400/500] Loss: 0.2715\n",
            "Epoch [21/80], Step [500/500] Loss: 0.2914\n",
            "Epoch [22/80], Step [100/500] Loss: 0.2935\n",
            "Epoch [22/80], Step [200/500] Loss: 0.2989\n",
            "Epoch [22/80], Step [300/500] Loss: 0.3064\n",
            "Epoch [22/80], Step [400/500] Loss: 0.3665\n",
            "Epoch [22/80], Step [500/500] Loss: 0.2057\n",
            "Epoch [23/80], Step [100/500] Loss: 0.3563\n",
            "Epoch [23/80], Step [200/500] Loss: 0.3682\n",
            "Epoch [23/80], Step [300/500] Loss: 0.4441\n",
            "Epoch [23/80], Step [400/500] Loss: 0.4061\n",
            "Epoch [23/80], Step [500/500] Loss: 0.2678\n",
            "Epoch [24/80], Step [100/500] Loss: 0.1588\n",
            "Epoch [24/80], Step [200/500] Loss: 0.2337\n",
            "Epoch [24/80], Step [300/500] Loss: 0.3317\n",
            "Epoch [24/80], Step [400/500] Loss: 0.1511\n",
            "Epoch [24/80], Step [500/500] Loss: 0.1624\n",
            "Epoch [25/80], Step [100/500] Loss: 0.2243\n",
            "Epoch [25/80], Step [200/500] Loss: 0.3418\n",
            "Epoch [25/80], Step [300/500] Loss: 0.2051\n",
            "Epoch [25/80], Step [400/500] Loss: 0.2656\n",
            "Epoch [25/80], Step [500/500] Loss: 0.2209\n",
            "Epoch [26/80], Step [100/500] Loss: 0.2479\n",
            "Epoch [26/80], Step [200/500] Loss: 0.3341\n",
            "Epoch [26/80], Step [300/500] Loss: 0.2740\n",
            "Epoch [26/80], Step [400/500] Loss: 0.2126\n",
            "Epoch [26/80], Step [500/500] Loss: 0.2812\n",
            "Epoch [27/80], Step [100/500] Loss: 0.1957\n",
            "Epoch [27/80], Step [200/500] Loss: 0.3220\n",
            "Epoch [27/80], Step [300/500] Loss: 0.2476\n",
            "Epoch [27/80], Step [400/500] Loss: 0.1955\n",
            "Epoch [27/80], Step [500/500] Loss: 0.3078\n",
            "Epoch [28/80], Step [100/500] Loss: 0.1712\n",
            "Epoch [28/80], Step [200/500] Loss: 0.2147\n",
            "Epoch [28/80], Step [300/500] Loss: 0.2713\n",
            "Epoch [28/80], Step [400/500] Loss: 0.2509\n",
            "Epoch [28/80], Step [500/500] Loss: 0.2588\n",
            "Epoch [29/80], Step [100/500] Loss: 0.3029\n",
            "Epoch [29/80], Step [200/500] Loss: 0.2748\n",
            "Epoch [29/80], Step [300/500] Loss: 0.3817\n",
            "Epoch [29/80], Step [400/500] Loss: 0.2568\n",
            "Epoch [29/80], Step [500/500] Loss: 0.3468\n",
            "Epoch [30/80], Step [100/500] Loss: 0.2339\n",
            "Epoch [30/80], Step [200/500] Loss: 0.2548\n",
            "Epoch [30/80], Step [300/500] Loss: 0.1821\n",
            "Epoch [30/80], Step [400/500] Loss: 0.4150\n",
            "Epoch [30/80], Step [500/500] Loss: 0.2695\n",
            "Epoch [31/80], Step [100/500] Loss: 0.1697\n",
            "Epoch [31/80], Step [200/500] Loss: 0.1200\n",
            "Epoch [31/80], Step [300/500] Loss: 0.2855\n",
            "Epoch [31/80], Step [400/500] Loss: 0.2458\n",
            "Epoch [31/80], Step [500/500] Loss: 0.2275\n",
            "Epoch [32/80], Step [100/500] Loss: 0.2115\n",
            "Epoch [32/80], Step [200/500] Loss: 0.2177\n",
            "Epoch [32/80], Step [300/500] Loss: 0.1764\n",
            "Epoch [32/80], Step [400/500] Loss: 0.2680\n",
            "Epoch [32/80], Step [500/500] Loss: 0.2366\n",
            "Epoch [33/80], Step [100/500] Loss: 0.3172\n",
            "Epoch [33/80], Step [200/500] Loss: 0.1574\n",
            "Epoch [33/80], Step [300/500] Loss: 0.2720\n",
            "Epoch [33/80], Step [400/500] Loss: 0.2766\n",
            "Epoch [33/80], Step [500/500] Loss: 0.1977\n",
            "Epoch [34/80], Step [100/500] Loss: 0.1966\n",
            "Epoch [34/80], Step [200/500] Loss: 0.1424\n",
            "Epoch [34/80], Step [300/500] Loss: 0.2405\n",
            "Epoch [34/80], Step [400/500] Loss: 0.2699\n",
            "Epoch [34/80], Step [500/500] Loss: 0.1745\n",
            "Epoch [35/80], Step [100/500] Loss: 0.1147\n",
            "Epoch [35/80], Step [200/500] Loss: 0.1319\n",
            "Epoch [35/80], Step [300/500] Loss: 0.3050\n",
            "Epoch [35/80], Step [400/500] Loss: 0.3171\n",
            "Epoch [35/80], Step [500/500] Loss: 0.2496\n",
            "Epoch [36/80], Step [100/500] Loss: 0.2121\n",
            "Epoch [36/80], Step [200/500] Loss: 0.1809\n",
            "Epoch [36/80], Step [300/500] Loss: 0.2181\n",
            "Epoch [36/80], Step [400/500] Loss: 0.2075\n",
            "Epoch [36/80], Step [500/500] Loss: 0.1017\n",
            "Epoch [37/80], Step [100/500] Loss: 0.1627\n",
            "Epoch [37/80], Step [200/500] Loss: 0.1509\n",
            "Epoch [37/80], Step [300/500] Loss: 0.1694\n",
            "Epoch [37/80], Step [400/500] Loss: 0.2107\n",
            "Epoch [37/80], Step [500/500] Loss: 0.2453\n",
            "Epoch [38/80], Step [100/500] Loss: 0.2127\n",
            "Epoch [38/80], Step [200/500] Loss: 0.1951\n",
            "Epoch [38/80], Step [300/500] Loss: 0.1729\n",
            "Epoch [38/80], Step [400/500] Loss: 0.1988\n",
            "Epoch [38/80], Step [500/500] Loss: 0.2600\n",
            "Epoch [39/80], Step [100/500] Loss: 0.1543\n",
            "Epoch [39/80], Step [200/500] Loss: 0.2093\n",
            "Epoch [39/80], Step [300/500] Loss: 0.1951\n",
            "Epoch [39/80], Step [400/500] Loss: 0.3023\n",
            "Epoch [39/80], Step [500/500] Loss: 0.2708\n",
            "Epoch [40/80], Step [100/500] Loss: 0.2298\n",
            "Epoch [40/80], Step [200/500] Loss: 0.1619\n",
            "Epoch [40/80], Step [300/500] Loss: 0.1815\n",
            "Epoch [40/80], Step [400/500] Loss: 0.2286\n",
            "Epoch [40/80], Step [500/500] Loss: 0.1606\n",
            "Epoch [41/80], Step [100/500] Loss: 0.1136\n",
            "Epoch [41/80], Step [200/500] Loss: 0.1619\n",
            "Epoch [41/80], Step [300/500] Loss: 0.1603\n",
            "Epoch [41/80], Step [400/500] Loss: 0.2522\n",
            "Epoch [41/80], Step [500/500] Loss: 0.1460\n",
            "Epoch [42/80], Step [100/500] Loss: 0.2560\n",
            "Epoch [42/80], Step [200/500] Loss: 0.1853\n",
            "Epoch [42/80], Step [300/500] Loss: 0.2789\n",
            "Epoch [42/80], Step [400/500] Loss: 0.1974\n",
            "Epoch [42/80], Step [500/500] Loss: 0.1639\n",
            "Epoch [43/80], Step [100/500] Loss: 0.2294\n",
            "Epoch [43/80], Step [200/500] Loss: 0.1924\n",
            "Epoch [43/80], Step [300/500] Loss: 0.1893\n",
            "Epoch [43/80], Step [400/500] Loss: 0.1334\n",
            "Epoch [43/80], Step [500/500] Loss: 0.1803\n",
            "Epoch [44/80], Step [100/500] Loss: 0.1728\n",
            "Epoch [44/80], Step [200/500] Loss: 0.1804\n",
            "Epoch [44/80], Step [300/500] Loss: 0.2458\n",
            "Epoch [44/80], Step [400/500] Loss: 0.2060\n",
            "Epoch [44/80], Step [500/500] Loss: 0.1389\n",
            "Epoch [45/80], Step [100/500] Loss: 0.1990\n",
            "Epoch [45/80], Step [200/500] Loss: 0.1626\n",
            "Epoch [45/80], Step [300/500] Loss: 0.1534\n",
            "Epoch [45/80], Step [400/500] Loss: 0.1239\n",
            "Epoch [45/80], Step [500/500] Loss: 0.2589\n",
            "Epoch [46/80], Step [100/500] Loss: 0.2109\n",
            "Epoch [46/80], Step [200/500] Loss: 0.2655\n",
            "Epoch [46/80], Step [300/500] Loss: 0.1674\n",
            "Epoch [46/80], Step [400/500] Loss: 0.1476\n",
            "Epoch [46/80], Step [500/500] Loss: 0.1636\n",
            "Epoch [47/80], Step [100/500] Loss: 0.2321\n",
            "Epoch [47/80], Step [200/500] Loss: 0.1873\n",
            "Epoch [47/80], Step [300/500] Loss: 0.2098\n",
            "Epoch [47/80], Step [400/500] Loss: 0.1369\n",
            "Epoch [47/80], Step [500/500] Loss: 0.2246\n",
            "Epoch [48/80], Step [100/500] Loss: 0.2115\n",
            "Epoch [48/80], Step [200/500] Loss: 0.0800\n",
            "Epoch [48/80], Step [300/500] Loss: 0.2772\n",
            "Epoch [48/80], Step [400/500] Loss: 0.1008\n",
            "Epoch [48/80], Step [500/500] Loss: 0.1349\n",
            "Epoch [49/80], Step [100/500] Loss: 0.0772\n",
            "Epoch [49/80], Step [200/500] Loss: 0.0988\n",
            "Epoch [49/80], Step [300/500] Loss: 0.1544\n",
            "Epoch [49/80], Step [400/500] Loss: 0.1250\n",
            "Epoch [49/80], Step [500/500] Loss: 0.1772\n",
            "Epoch [50/80], Step [100/500] Loss: 0.1699\n",
            "Epoch [50/80], Step [200/500] Loss: 0.1309\n",
            "Epoch [50/80], Step [300/500] Loss: 0.1820\n",
            "Epoch [50/80], Step [400/500] Loss: 0.1922\n",
            "Epoch [50/80], Step [500/500] Loss: 0.1545\n",
            "Epoch [51/80], Step [100/500] Loss: 0.1077\n",
            "Epoch [51/80], Step [200/500] Loss: 0.1751\n",
            "Epoch [51/80], Step [300/500] Loss: 0.1115\n",
            "Epoch [51/80], Step [400/500] Loss: 0.1180\n",
            "Epoch [51/80], Step [500/500] Loss: 0.1452\n",
            "Epoch [52/80], Step [100/500] Loss: 0.2057\n",
            "Epoch [52/80], Step [200/500] Loss: 0.1937\n",
            "Epoch [52/80], Step [300/500] Loss: 0.1811\n",
            "Epoch [52/80], Step [400/500] Loss: 0.1704\n",
            "Epoch [52/80], Step [500/500] Loss: 0.0996\n",
            "Epoch [53/80], Step [100/500] Loss: 0.1529\n",
            "Epoch [53/80], Step [200/500] Loss: 0.0800\n",
            "Epoch [53/80], Step [300/500] Loss: 0.1683\n",
            "Epoch [53/80], Step [400/500] Loss: 0.1513\n",
            "Epoch [53/80], Step [500/500] Loss: 0.1028\n",
            "Epoch [54/80], Step [100/500] Loss: 0.0752\n",
            "Epoch [54/80], Step [200/500] Loss: 0.1631\n",
            "Epoch [54/80], Step [300/500] Loss: 0.2477\n",
            "Epoch [54/80], Step [400/500] Loss: 0.1778\n",
            "Epoch [54/80], Step [500/500] Loss: 0.1345\n",
            "Epoch [55/80], Step [100/500] Loss: 0.1965\n",
            "Epoch [55/80], Step [200/500] Loss: 0.2250\n",
            "Epoch [55/80], Step [300/500] Loss: 0.2164\n",
            "Epoch [55/80], Step [400/500] Loss: 0.0847\n",
            "Epoch [55/80], Step [500/500] Loss: 0.1358\n",
            "Epoch [56/80], Step [100/500] Loss: 0.1351\n",
            "Epoch [56/80], Step [200/500] Loss: 0.1514\n",
            "Epoch [56/80], Step [300/500] Loss: 0.1586\n",
            "Epoch [56/80], Step [400/500] Loss: 0.1680\n",
            "Epoch [56/80], Step [500/500] Loss: 0.2227\n",
            "Epoch [57/80], Step [100/500] Loss: 0.1764\n",
            "Epoch [57/80], Step [200/500] Loss: 0.1633\n",
            "Epoch [57/80], Step [300/500] Loss: 0.2536\n",
            "Epoch [57/80], Step [400/500] Loss: 0.1627\n",
            "Epoch [57/80], Step [500/500] Loss: 0.1154\n",
            "Epoch [58/80], Step [100/500] Loss: 0.2179\n",
            "Epoch [58/80], Step [200/500] Loss: 0.1398\n",
            "Epoch [58/80], Step [300/500] Loss: 0.1470\n",
            "Epoch [58/80], Step [400/500] Loss: 0.1183\n",
            "Epoch [58/80], Step [500/500] Loss: 0.1540\n",
            "Epoch [59/80], Step [100/500] Loss: 0.1540\n",
            "Epoch [59/80], Step [200/500] Loss: 0.1178\n",
            "Epoch [59/80], Step [300/500] Loss: 0.0513\n",
            "Epoch [59/80], Step [400/500] Loss: 0.1229\n",
            "Epoch [59/80], Step [500/500] Loss: 0.2044\n",
            "Epoch [60/80], Step [100/500] Loss: 0.1750\n",
            "Epoch [60/80], Step [200/500] Loss: 0.2274\n",
            "Epoch [60/80], Step [300/500] Loss: 0.1619\n",
            "Epoch [60/80], Step [400/500] Loss: 0.1782\n",
            "Epoch [60/80], Step [500/500] Loss: 0.2178\n",
            "Epoch [61/80], Step [100/500] Loss: 0.1631\n",
            "Epoch [61/80], Step [200/500] Loss: 0.0491\n",
            "Epoch [61/80], Step [300/500] Loss: 0.1562\n",
            "Epoch [61/80], Step [400/500] Loss: 0.1729\n",
            "Epoch [61/80], Step [500/500] Loss: 0.2503\n",
            "Epoch [62/80], Step [100/500] Loss: 0.1610\n",
            "Epoch [62/80], Step [200/500] Loss: 0.1432\n",
            "Epoch [62/80], Step [300/500] Loss: 0.1723\n",
            "Epoch [62/80], Step [400/500] Loss: 0.1889\n",
            "Epoch [62/80], Step [500/500] Loss: 0.2906\n",
            "Epoch [63/80], Step [100/500] Loss: 0.1581\n",
            "Epoch [63/80], Step [200/500] Loss: 0.1566\n",
            "Epoch [63/80], Step [300/500] Loss: 0.1238\n",
            "Epoch [63/80], Step [400/500] Loss: 0.1578\n",
            "Epoch [63/80], Step [500/500] Loss: 0.1398\n",
            "Epoch [64/80], Step [100/500] Loss: 0.2034\n",
            "Epoch [64/80], Step [200/500] Loss: 0.2281\n",
            "Epoch [64/80], Step [300/500] Loss: 0.1566\n",
            "Epoch [64/80], Step [400/500] Loss: 0.1503\n",
            "Epoch [64/80], Step [500/500] Loss: 0.1697\n",
            "Epoch [65/80], Step [100/500] Loss: 0.1390\n",
            "Epoch [65/80], Step [200/500] Loss: 0.1362\n",
            "Epoch [65/80], Step [300/500] Loss: 0.1079\n",
            "Epoch [65/80], Step [400/500] Loss: 0.1836\n",
            "Epoch [65/80], Step [500/500] Loss: 0.1316\n",
            "Epoch [66/80], Step [100/500] Loss: 0.1109\n",
            "Epoch [66/80], Step [200/500] Loss: 0.1575\n",
            "Epoch [66/80], Step [300/500] Loss: 0.0929\n",
            "Epoch [66/80], Step [400/500] Loss: 0.2354\n",
            "Epoch [66/80], Step [500/500] Loss: 0.2555\n",
            "Epoch [67/80], Step [100/500] Loss: 0.1235\n",
            "Epoch [67/80], Step [200/500] Loss: 0.1643\n",
            "Epoch [67/80], Step [300/500] Loss: 0.1560\n",
            "Epoch [67/80], Step [400/500] Loss: 0.1149\n",
            "Epoch [67/80], Step [500/500] Loss: 0.1639\n",
            "Epoch [68/80], Step [100/500] Loss: 0.1029\n",
            "Epoch [68/80], Step [200/500] Loss: 0.2062\n",
            "Epoch [68/80], Step [300/500] Loss: 0.0976\n",
            "Epoch [68/80], Step [400/500] Loss: 0.2030\n",
            "Epoch [68/80], Step [500/500] Loss: 0.1928\n",
            "Epoch [69/80], Step [100/500] Loss: 0.1584\n",
            "Epoch [69/80], Step [200/500] Loss: 0.1138\n",
            "Epoch [69/80], Step [300/500] Loss: 0.2000\n",
            "Epoch [69/80], Step [400/500] Loss: 0.0769\n",
            "Epoch [69/80], Step [500/500] Loss: 0.0994\n",
            "Epoch [70/80], Step [100/500] Loss: 0.1966\n",
            "Epoch [70/80], Step [200/500] Loss: 0.1296\n",
            "Epoch [70/80], Step [300/500] Loss: 0.0894\n",
            "Epoch [70/80], Step [400/500] Loss: 0.1014\n",
            "Epoch [70/80], Step [500/500] Loss: 0.1717\n",
            "Epoch [71/80], Step [100/500] Loss: 0.1501\n",
            "Epoch [71/80], Step [200/500] Loss: 0.1567\n",
            "Epoch [71/80], Step [300/500] Loss: 0.1240\n",
            "Epoch [71/80], Step [400/500] Loss: 0.0964\n",
            "Epoch [71/80], Step [500/500] Loss: 0.1174\n",
            "Epoch [72/80], Step [100/500] Loss: 0.2211\n",
            "Epoch [72/80], Step [200/500] Loss: 0.2068\n",
            "Epoch [72/80], Step [300/500] Loss: 0.2518\n",
            "Epoch [72/80], Step [400/500] Loss: 0.1061\n",
            "Epoch [72/80], Step [500/500] Loss: 0.1267\n",
            "Epoch [73/80], Step [100/500] Loss: 0.2193\n",
            "Epoch [73/80], Step [200/500] Loss: 0.0757\n",
            "Epoch [73/80], Step [300/500] Loss: 0.1311\n",
            "Epoch [73/80], Step [400/500] Loss: 0.0784\n",
            "Epoch [73/80], Step [500/500] Loss: 0.1078\n",
            "Epoch [74/80], Step [100/500] Loss: 0.1709\n",
            "Epoch [74/80], Step [200/500] Loss: 0.1282\n",
            "Epoch [74/80], Step [300/500] Loss: 0.1727\n",
            "Epoch [74/80], Step [400/500] Loss: 0.0455\n",
            "Epoch [74/80], Step [500/500] Loss: 0.1229\n",
            "Epoch [75/80], Step [100/500] Loss: 0.2224\n",
            "Epoch [75/80], Step [200/500] Loss: 0.0915\n",
            "Epoch [75/80], Step [300/500] Loss: 0.0927\n",
            "Epoch [75/80], Step [400/500] Loss: 0.1248\n",
            "Epoch [75/80], Step [500/500] Loss: 0.1292\n",
            "Epoch [76/80], Step [100/500] Loss: 0.2355\n",
            "Epoch [76/80], Step [200/500] Loss: 0.1118\n",
            "Epoch [76/80], Step [300/500] Loss: 0.0683\n",
            "Epoch [76/80], Step [400/500] Loss: 0.0899\n",
            "Epoch [76/80], Step [500/500] Loss: 0.1453\n",
            "Epoch [77/80], Step [100/500] Loss: 0.1292\n",
            "Epoch [77/80], Step [200/500] Loss: 0.2225\n",
            "Epoch [77/80], Step [300/500] Loss: 0.1055\n",
            "Epoch [77/80], Step [400/500] Loss: 0.1469\n",
            "Epoch [77/80], Step [500/500] Loss: 0.1930\n",
            "Epoch [78/80], Step [100/500] Loss: 0.1213\n",
            "Epoch [78/80], Step [200/500] Loss: 0.1838\n",
            "Epoch [78/80], Step [300/500] Loss: 0.1602\n",
            "Epoch [78/80], Step [400/500] Loss: 0.1183\n",
            "Epoch [78/80], Step [500/500] Loss: 0.1847\n",
            "Epoch [79/80], Step [100/500] Loss: 0.2112\n",
            "Epoch [79/80], Step [200/500] Loss: 0.1883\n",
            "Epoch [79/80], Step [300/500] Loss: 0.1276\n",
            "Epoch [79/80], Step [400/500] Loss: 0.0911\n",
            "Epoch [79/80], Step [500/500] Loss: 0.2016\n",
            "Epoch [80/80], Step [100/500] Loss: 0.1666\n",
            "Epoch [80/80], Step [200/500] Loss: 0.1704\n",
            "Epoch [80/80], Step [300/500] Loss: 0.0446\n",
            "Epoch [80/80], Step [400/500] Loss: 0.1747\n",
            "Epoch [80/80], Step [500/500] Loss: 0.1538\n",
            "Accuracy of the model on the test images: 88.27 %\n"
          ],
          "name": "stdout"
        }
      ]
    }
  ]
}